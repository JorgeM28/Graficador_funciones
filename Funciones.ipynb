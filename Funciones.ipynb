{
  "nbformat": 4,
  "nbformat_minor": 0,
  "metadata": {
    "colab": {
      "provenance": [],
      "authorship_tag": "ABX9TyMQRb/07J3Py7As/aKDiqn8",
      "include_colab_link": true
    },
    "kernelspec": {
      "name": "python3",
      "display_name": "Python 3"
    },
    "language_info": {
      "name": "python"
    }
  },
  "cells": [
    {
      "cell_type": "markdown",
      "metadata": {
        "id": "view-in-github",
        "colab_type": "text"
      },
      "source": [
        "<a href=\"https://colab.research.google.com/github/JorgeM28/Graficador_funciones/blob/main/Funciones.ipynb\" target=\"_parent\"><img src=\"https://colab.research.google.com/assets/colab-badge.svg\" alt=\"Open In Colab\"/></a>"
      ]
    },
    {
      "cell_type": "code",
      "execution_count": 15,
      "metadata": {
        "colab": {
          "base_uri": "https://localhost:8080/",
          "height": 624
        },
        "id": "YUjEECIeJTDU",
        "outputId": "53ed540e-a688-470d-c9e9-b98acec140c0"
      },
      "outputs": [
        {
          "name": "stdout",
          "output_type": "stream",
          "text": [
            "--------------------------------------------\n",
            "---------GRAFICADOR DE FUNCIONES------------\n",
            "--------------------------------------------\n",
            "\n",
            "Que deseas graficar: \n",
            "\n",
            "1. Funcion lineal(y = mx + b) \n",
            "2. Funcion cuadratica(y = ax^2 + bx + c) \n",
            "3. Funcion cubica \n",
            "4. Funcion exponencial \n",
            "5. Funcion logaritmica \n",
            "6. Funcion trigonometrica \n",
            "\n",
            "Dame la opcion: 3\n",
            "Digite el valor de a : 4\n",
            "Digite el valor de b: 2\n",
            "Digite el valor de c: 6\n",
            "Digite el valor de d: 4\n"
          ]
        },
        {
          "output_type": "display_data",
          "data": {
            "text/plain": [
              "<Figure size 432x288 with 1 Axes>"
            ],
            "image/png": "[encoded data removed]"
          },
          "metadata": {
            "needs_background": "light"
          }
        }
      ],
      "source": [
        "from logging import log\n",
        "import numpy as np\n",
        "import matplotlib.pyplot as plt \n",
        "\n",
        "print(\"--------------------------------------------\")\n",
        "print(\"---------GRAFICADOR DE FUNCIONES------------\")\n",
        "print(\"--------------------------------------------\")\n",
        "\n",
        "print(\"\\nQue deseas graficar: \\n\")\n",
        "# Se despliega el menu para seleccionar la opción que deseas realizar:\n",
        "print(\"1. Funcion lineal(y = mx + b) \")\n",
        "print(\"2. Funcion cuadratica(y = ax^2 + bx + c) \")\n",
        "print(\"3. Funcion cubica \")\n",
        "print(\"4. Funcion exponencial \")\n",
        "print(\"5. Funcion logaritmica \")\n",
        "print(\"6. Funcion trigonometrica \")\n",
        "\n",
        "opcion = int(input(\"\\nDame la opcion: \"))\n",
        "\n",
        "if(opcion==1):\n",
        "  N = 100\n",
        "  def funcion_lineal(m,b,x):\n",
        "    return m*x + b\n",
        "  m = int(input(\"Digite el valor de la pendiente: \"))\n",
        "  b = int(input(\"Digite el valor del punto de corte con el eje y: \"))\n",
        "\n",
        " \n",
        "  x = np.linspace(-10,10,num=N)\n",
        "  y = funcion_lineal(m,b,x)\n",
        "\n",
        "  plt.plot(x,y,color=\"r\")\n",
        "  plt.xlabel(\"x\")\n",
        "  plt.ylabel(\"y\")\n",
        "  plt.title(\"Funcion lineal: y = mx + b\")\n",
        "  plt.grid()\n",
        "  plt.axhline(y=0, color=\"b\")\n",
        "  plt.axvline(x=0, color=\"b\")\n",
        "  plt.show()\n",
        "\n",
        "elif (opcion==2):\n",
        "  N=100\n",
        "  def funcion_cuadratia(a,b,x,c):\n",
        "    return a*x**2 + b*x + c\n",
        "  a = int(input(\"Digite el valor de a : \"))\n",
        "  b = int(input(\"Digite el valor de b: \"))\n",
        "  c = int(input(\"Digite el valor de c: \"))\n",
        "\n",
        "\n",
        " \n",
        "  x = np.linspace(-10,10,num=N)\n",
        "  y = funcion_cuadratia(a,b,x,c)\n",
        "\n",
        "  plt.plot(x,y,color=\"r\")\n",
        "  plt.xlabel(\"x\")\n",
        "  plt.ylabel(\"y\")\n",
        "  plt.title(\"Funcion cuadratica: y = ax^2 + bx + c\")\n",
        "  plt.grid()\n",
        "  plt.axhline(y=0, color=\"b\")\n",
        "  plt.axvline(x=0, color=\"b\")\n",
        "  plt.show()\n",
        "\n",
        "elif(opcion==3):\n",
        "  N=100\n",
        "  def funcion_cuadratia(a,b,x,c,d):\n",
        "    return a*x**3 + b*x**2 + c*x + d\n",
        "  a = int(input(\"Digite el valor de a : \"))\n",
        "  b = int(input(\"Digite el valor de b: \"))\n",
        "  c = int(input(\"Digite el valor de c: \"))\n",
        "  d = int(input(\"Digite el valor de d: \"))\n",
        "\n",
        "\n",
        "  x = np.linspace(-10,10,num=N)\n",
        "  y = funcion_cuadratia(a,b,x,c,d)\n",
        "\n",
        "  plt.plot(x,y,color=\"r\")\n",
        "  plt.xlabel(\"x\")\n",
        "  plt.ylabel(\"y\")\n",
        "  plt.title(\"Funcion cubica: y = ax^3 + bx^2 + cx + d\")\n",
        "  plt.grid()\n",
        "  plt.axhline(y=0, color=\"b\")\n",
        "  plt.axvline(x=0, color=\"b\")\n",
        "  plt.show()\n",
        "\n",
        "elif(opcion==4):\n",
        "  N=100\n",
        "  def funcion_cuadratia(a,x):\n",
        "    return a**x\n",
        "  a = int(input(\"Digite el valor de a : \"))\n",
        "\n",
        "  x = np.linspace(-10,10,num=N)\n",
        "  y = funcion_cuadratia(a,x)\n",
        "\n",
        "  plt.plot(x,y,color=\"r\")\n",
        "  plt.xlabel(\"x\")\n",
        "  plt.ylabel(\"y\")\n",
        "  plt.title(\"Funcion exponencial: y = a^x\")\n",
        "  plt.grid()\n",
        "  plt.axhline(y=0, color=\"b\")\n",
        "  plt.axvline(x=0, color=\"b\")\n",
        "  plt.show()\n",
        "\n",
        "\n",
        "\n",
        "\n",
        "\n",
        "\n",
        "  "
      ]
    }
  ]
}