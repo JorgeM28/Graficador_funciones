{
  "nbformat": 4,
  "nbformat_minor": 0,
  "metadata": {
    "colab": {
      "provenance": [],
      "authorship_tag": "ABX9TyMjtohsuyXQbVD3gopMciRc",
      "include_colab_link": true
    },
    "kernelspec": {
      "name": "python3",
      "display_name": "Python 3"
    },
    "language_info": {
      "name": "python"
    }
  },
  "cells": [
    {
      "cell_type": "markdown",
      "metadata": {
        "id": "view-in-github",
        "colab_type": "text"
      },
      "source": [
        "<a href=\"https://colab.research.google.com/github/JorgeM28/Graficador_funciones/blob/main/Funciones.ipynb\" target=\"_parent\"><img src=\"https://colab.research.google.com/assets/colab-badge.svg\" alt=\"Open In Colab\"/></a>"
      ]
    },
    {
      "cell_type": "code",
      "execution_count": null,
      "metadata": {
        "id": "YUjEECIeJTDU"
      },
      "outputs": [],
      "source": [
        "from matplotlib.pyplot import plot , show, xlim, ylim, xticks, legend, figure, subplot\n",
        "from numpy import linspace, pi, sin, cos\n",
        "\n",
        "print(\"--------------------------------------------\")\n",
        "print(\"---------GRAFICADOR DE FUNCIONES------------\")\n",
        "print(\"--------------------------------------------\")\n",
        "\n",
        "print(\"\\nQue deseas graficar: \\n\")\n",
        "# Se despliega el menu para seleccionar la opción que deseas realizar:\n",
        "print(\"1. Funcion lineal \")\n",
        "print(\"2. Funcion cuadratica \")\n",
        "print(\"3. Funcion cubica \")\n",
        "print(\"4. Funcion exponencial \")\n",
        "print(\"5. Funcion logaritmica \")\n",
        "print(\"6. Funcion trigonometrica \")\n",
        "\n",
        "opcion = int(input(\"\\nDame la opcion: \"))\n"
      ]
    }
  ]
}